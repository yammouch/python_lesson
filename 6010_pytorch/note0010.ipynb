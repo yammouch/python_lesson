{
 "cells": [
  {
   "cell_type": "markdown",
   "metadata": {},
   "source": [
    "# PyTorch を練習してみる。\n",
    "あああ、ここに日記をグダグダ書いても良いかも知れない。結局 github に上げることになるんだもんね。"
   ]
  },
  {
   "cell_type": "code",
   "execution_count": 11,
   "metadata": {},
   "outputs": [
    {
     "data": {
      "text/plain": [
       "tensor([[0.0000, 0.0000, 0.1000, 0.2000],\n",
       "        [0.0000, 0.0000, 0.1000, 0.3000]])"
      ]
     },
     "execution_count": 11,
     "metadata": {},
     "output_type": "execute_result"
    }
   ],
   "source": [
    "import numpy as np\n",
    "import torch\n",
    "import torch.nn.functional as F\n",
    "device = torch.device('cpu')\n",
    "\n",
    "a = np.array \\\n",
    "( [ [ -0.1,  0.0, 0.1, 0.2 ]\n",
    "  , [ -0.3, -0.1, 0.1, 0.3 ] ]\n",
    ", dtype=np.float32)\n",
    "t = torch.from_numpy(a).clone()\n",
    "\n",
    "F.relu(t)"
   ]
  },
  {
   "cell_type": "code",
   "execution_count": 16,
   "metadata": {},
   "outputs": [
    {
     "data": {
      "text/plain": [
       "Parameter containing:\n",
       "tensor([[[[-0.0025,  0.1788, -0.2743],\n",
       "          [-0.2453, -0.1284,  0.0894],\n",
       "          [-0.0066,  0.2643, -0.0296]]],\n",
       "\n",
       "\n",
       "        [[[ 0.0882, -0.1007, -0.0655],\n",
       "          [-0.3184, -0.2208, -0.1374],\n",
       "          [ 0.0123,  0.1318,  0.2000]]]], requires_grad=True)"
      ]
     },
     "execution_count": 16,
     "metadata": {},
     "output_type": "execute_result"
    }
   ],
   "source": [
    "import torch.nn as nn\n",
    "\n",
    "class MyNN(nn.Module):\n",
    "    def __init__(self):\n",
    "        super(MyNN, self).__init__()\n",
    "        self.conv1 = nn.Conv2d(1, 2, kernel_size=3)\n",
    "    def forward(self, x):\n",
    "        return self.conv1(x)\n",
    "\n",
    "np.random.seed(0)\n",
    "torch.manual_seed(0)\n",
    "\n",
    "n = MyNN()\n",
    "n.conv1.weight"
   ]
  },
  {
   "cell_type": "code",
   "execution_count": 17,
   "metadata": {},
   "outputs": [
    {
     "data": {
      "text/plain": [
       "Parameter containing:\n",
       "tensor([[[[ 1.0000,  0.1788, -0.2743],\n",
       "          [-0.2453, -0.1284,  0.0894],\n",
       "          [-0.0066,  0.2643, -0.0296]]],\n",
       "\n",
       "\n",
       "        [[[ 0.0882, -0.1007, -0.0655],\n",
       "          [-0.3184, -0.2208, -0.1374],\n",
       "          [ 0.0123,  0.1318,  0.2000]]]], grad_fn=<CopySlices>)"
      ]
     },
     "execution_count": 17,
     "metadata": {},
     "output_type": "execute_result"
    }
   ],
   "source": [
    "n.conv1.weight[0][0][0][0] = 1.0\n",
    "n.conv1.weight"
   ]
  },
  {
   "cell_type": "code",
   "execution_count": 24,
   "metadata": {},
   "outputs": [
    {
     "data": {
      "text/plain": [
       "Parameter containing:\n",
       "tensor([[[[0., 0., 0.],\n",
       "          [0., 0., 0.],\n",
       "          [0., 0., 0.]]],\n",
       "\n",
       "\n",
       "        [[[0., 0., 0.],\n",
       "          [0., 0., 0.],\n",
       "          [0., 0., 0.]]]], requires_grad=True)"
      ]
     },
     "execution_count": 24,
     "metadata": {},
     "output_type": "execute_result"
    }
   ],
   "source": [
    "n.conv1.weight = \\\n",
    "nn.Parameter \\\n",
    "( torch.from_numpy \\\n",
    "  ( np.zeros([2, 1, 3, 3]).astype(np.float32) ) )\n",
    "n.conv1.weight"
   ]
  },
  {
   "cell_type": "code",
   "execution_count": 23,
   "metadata": {},
   "outputs": [
    {
     "data": {
      "text/plain": [
       "tensor([[[[-0.2260, -0.2260, -0.2260]],\n",
       "\n",
       "         [[-0.1452, -0.1452, -0.1452]]],\n",
       "\n",
       "\n",
       "        [[[-0.2260, -0.2260, -0.2260]],\n",
       "\n",
       "         [[-0.1452, -0.1452, -0.1452]]],\n",
       "\n",
       "\n",
       "        [[[-0.2260, -0.2260, -0.2260]],\n",
       "\n",
       "         [[-0.1452, -0.1452, -0.1452]]],\n",
       "\n",
       "\n",
       "        [[[-0.2260, -0.2260, -0.2260]],\n",
       "\n",
       "         [[-0.1452, -0.1452, -0.1452]]]], grad_fn=<MkldnnConvolutionBackward>)"
      ]
     },
     "execution_count": 23,
     "metadata": {},
     "output_type": "execute_result"
    }
   ],
   "source": [
    "n(torch.from_numpy(np.zeros([4, 1, 3, 5], dtype=np.float32)))"
   ]
  }
 ],
 "metadata": {
  "kernelspec": {
   "display_name": "Python 3",
   "language": "python",
   "name": "python3"
  },
  "language_info": {
   "codemirror_mode": {
    "name": "ipython",
    "version": 3
   },
   "file_extension": ".py",
   "mimetype": "text/x-python",
   "name": "python",
   "nbconvert_exporter": "python",
   "pygments_lexer": "ipython3",
   "version": "3.7.4"
  }
 },
 "nbformat": 4,
 "nbformat_minor": 2
}
